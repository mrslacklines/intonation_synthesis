{
 "cells": [
  {
   "cell_type": "code",
   "execution_count": 1,
   "metadata": {},
   "outputs": [
    {
     "name": "stderr",
     "output_type": "stream",
     "text": [
      "Using TensorFlow backend.\n"
     ]
    }
   ],
   "source": [
    "import cv2\n",
    "import h5py\n",
    "import numpy as np\n",
    "import re\n",
    "import tensorflow as tf\n",
    "\n",
    "from matplotlib import pyplot as plt\n",
    "from tensorflow.keras.models import Model\n",
    "from keras.backend.tensorflow_backend import set_session"
   ]
  },
  {
   "cell_type": "code",
   "execution_count": 2,
   "metadata": {},
   "outputs": [],
   "source": [
    "QUESTION_FILE_PATH = \"/media/tomaszk/DANE/Speech_archive/HTS-demo_AMU_PL_ILO_STRAIGHT/data/questions/questions_qst001.hed\""
   ]
  },
  {
   "cell_type": "code",
   "execution_count": 3,
   "metadata": {},
   "outputs": [],
   "source": [
    "with open(QUESTION_FILE_PATH) as qst_file:\n",
    "    questions = qst_file.readlines()"
   ]
  },
  {
   "cell_type": "code",
   "execution_count": 4,
   "metadata": {},
   "outputs": [],
   "source": [
    "qst_name_regexp = re.compile(\"QS\\s+[^<>=]+\")  "
   ]
  },
  {
   "cell_type": "code",
   "execution_count": 5,
   "metadata": {},
   "outputs": [],
   "source": [
    "inputFeatureNames = [re.sub(\"[\\t\\n]\", \"\",  re.sub('\\\"(.*)\\\"', \"\\g<1>\", line)) for line in questions]      "
   ]
  },
  {
   "cell_type": "code",
   "execution_count": 6,
   "metadata": {},
   "outputs": [],
   "source": [
    "inputFeatureNames.append(\"VUV\")"
   ]
  },
  {
   "cell_type": "code",
   "execution_count": 7,
   "metadata": {},
   "outputs": [],
   "source": [
    "inputFeatureNames = [line for line in inputFeatureNames if line]"
   ]
  },
  {
   "cell_type": "code",
   "execution_count": 8,
   "metadata": {},
   "outputs": [],
   "source": [
    "suprasegmentals_indexes = [\n",
    "    inputFeatureNames.index(feat) for feat in inputFeatureNames\n",
    "    if not feat.startswith(\"QS LL\") and\n",
    "    not feat.startswith(\"QS RR\") and\n",
    "    not feat.startswith(\"QS L\") and\n",
    "    not feat.startswith(\"QS R\") and\n",
    "    not feat.startswith(\"QS C\")\n",
    "]\n",
    "suprasegmental_labels = [inputFeatureNames[idx] for idx in suprasegmentals_indexes]"
   ]
  },
  {
   "cell_type": "code",
   "execution_count": 9,
   "metadata": {},
   "outputs": [],
   "source": [
    "serviceOutput = h5py.File(\"output.hdf5\", \"r\")"
   ]
  },
  {
   "cell_type": "code",
   "execution_count": 10,
   "metadata": {},
   "outputs": [],
   "source": [
    "inputData = np.array(serviceOutput['inputLayer'])\n",
    "data_keys = [key for key in serviceOutput['data'].keys()]"
   ]
  },
  {
   "cell_type": "code",
   "execution_count": 11,
   "metadata": {},
   "outputs": [
    {
     "data": {
      "text/plain": [
       "<Figure size 432x288 with 0 Axes>"
      ]
     },
     "metadata": {},
     "output_type": "display_data"
    }
   ],
   "source": [
    "plt.close()\n",
    "fig = plt.figure()"
   ]
  },
  {
   "cell_type": "code",
   "execution_count": 12,
   "metadata": {},
   "outputs": [
    {
     "data": {
      "image/png": "[encoded data removed]",
      "text/plain": [
       "<Figure size 432x288 with 1 Axes>"
      ]
     },
     "metadata": {
      "needs_background": "light"
     },
     "output_type": "display_data"
    }
   ],
   "source": [
    "cmaps = [\n",
    "    'Greys', 'Purples', 'Blues', 'Greens', 'Oranges', 'Reds',\n",
    "    'YlOrBr', 'YlOrRd', 'OrRd', 'PuRd', 'RdPu', 'BuPu',\n",
    "    'GnBu', 'PuBu', 'YlGnBu', 'PuBuGn', 'BuGn', 'YlGn']\n",
    "current_cmap = 0\n",
    "current_color = 0\n",
    "prev_feat = None\n",
    "for idx in suprasegmentals_indexes:\n",
    "    inputFeature = inputData[idx, :]\n",
    "    inputFeatureName = inputFeatureNames[idx]\n",
    "    if prev_feat is not None and re.search(qst_name_regexp, inputFeatureName) != re.search(qst_name_regexp, prev_feat).group():\n",
    "        current_color = 0\n",
    "        if current_cmap >= len(cmaps):\n",
    "            current_cmap = 0\n",
    "        else:\n",
    "            current_cmap += 1\n",
    "    prev_feat = inputFeatureName\n",
    "    # saliency = np.array(data[-1][0][saliencyMapIdx])[idx, :]\n",
    "    # TODO - we need to plot all filters\n",
    "    saliency = serviceOutput['data'][data_keys[-1]]['0']\\\n",
    "        ['saliencyMap'][idx, :]\n",
    "    plt.plot(saliency, label=inputFeatureNames[idx])\n",
    "#     plt.legend(loc='center left', bbox_to_anchor=(1, 0.5))\n"
   ]
  }
 ],
 "metadata": {
  "kernelspec": {
   "display_name": "Python 3",
   "language": "python",
   "name": "python3"
  },
  "language_info": {
   "codemirror_mode": {
    "name": "ipython",
    "version": 3
   },
   "file_extension": ".py",
   "mimetype": "text/x-python",
   "name": "python",
   "nbconvert_exporter": "python",
   "pygments_lexer": "ipython3",
   "version": "3.6.1"
  }
 },
 "nbformat": 4,
 "nbformat_minor": 2
}
